{
 "cells": [
  {
   "cell_type": "code",
   "execution_count": 7,
   "id": "b725ddcb",
   "metadata": {
    "scrolled": false
   },
   "outputs": [
    {
     "name": "stdout",
     "output_type": "stream",
     "text": [
      "base_path is: /Users/nancypham/springboard/spark-optimization\n"
     ]
    }
   ],
   "source": [
    "'''\n",
    "Optimize the query plan\n",
    "\n",
    "Suppose we want to compose query in which we get for each question also the number of answers to this question for each month. See the query below which does that in a suboptimal way and try to rewrite it to achieve a more optimal plan.\n",
    "'''\n",
    "\n",
    "import pyspark\n",
    "from pyspark.sql import SparkSession\n",
    "from pyspark.sql.functions import col, count, month\n",
    "\n",
    "import os\n",
    "\n",
    "spark = SparkSession.builder.appName('Optimize I').getOrCreate()\n",
    "\n",
    "base_path = os.getcwd()\n",
    "print(f'base_path is: {base_path}')\n",
    "\n",
    "project_path = ('/').join(base_path.split('/')[0:-3]) \n",
    "\n",
    "#answers_input_path = os.path.join(project_path, 'data/answers')\n",
    "answers_input_path = os.path.join(base_path, 'data/answers')\n",
    "\n",
    "#questions_input_path = os.path.join(project_path, 'output/questions-transformed')\n",
    "questions_input_path = os.path.join(base_path, 'data/questions')\n",
    "\n",
    "answersDF = spark.read.option('path', answers_input_path).load()\n",
    "\n",
    "questionsDF = spark.read.option('path', questions_input_path).load()"
   ]
  },
  {
   "cell_type": "code",
   "execution_count": 8,
   "id": "2268e1ab",
   "metadata": {},
   "outputs": [
    {
     "name": "stdout",
     "output_type": "stream",
     "text": [
      "+-----------+---------+--------------------+--------+-------+-----+\n",
      "|question_id|answer_id|       creation_date|comments|user_id|score|\n",
      "+-----------+---------+--------------------+--------+-------+-----+\n",
      "|     226592|   226595|2015-12-29 15:46:...|       3|  82798|    2|\n",
      "|     388057|   388062|2018-02-22 10:52:...|       8|    520|   21|\n",
      "|     293286|   293305|2016-11-17 13:35:...|       0|  47472|    2|\n",
      "|     442499|   442503|2018-11-21 22:34:...|       0| 137289|    0|\n",
      "|     293009|   293031|2016-11-16 05:36:...|       0|  83721|    0|\n",
      "|     395532|   395537|2018-03-24 22:51:...|       0|   1325|    0|\n",
      "|     329826|   329843|2017-04-29 08:42:...|       4|    520|    1|\n",
      "|     294710|   295061|2016-11-26 17:29:...|       2| 114696|    2|\n",
      "|     291910|   291917|2016-11-10 02:56:...|       0| 114696|    2|\n",
      "|     372382|   372394|2017-12-03 18:17:...|       0| 172328|    0|\n",
      "|     178387|   178394|2015-04-25 10:31:...|       6|  62726|    0|\n",
      "|     393947|   393948|2018-03-17 15:22:...|       0| 165299|    9|\n",
      "|     432001|   432696|2018-10-05 01:47:...|       1| 102218|    0|\n",
      "|     322740|   322746|2017-03-31 11:10:...|       0|    392|    0|\n",
      "|     397003|   397008|2018-04-01 04:31:...|       1| 189394|    6|\n",
      "|     223572|   223628|2015-12-11 21:40:...|       0|  94772|   -1|\n",
      "|     220328|   220331|2015-11-24 07:57:...|       3|  92883|    1|\n",
      "|     176400|   176491|2015-04-16 06:13:...|       0|  40330|    0|\n",
      "|     265167|   265179|2016-06-28 04:58:...|       0|  46790|    0|\n",
      "|     309103|   309105|2017-02-01 09:00:...|       2|  89597|    2|\n",
      "+-----------+---------+--------------------+--------+-------+-----+\n",
      "only showing top 20 rows\n",
      "\n"
     ]
    }
   ],
   "source": [
    "answersDF.show()"
   ]
  },
  {
   "cell_type": "code",
   "execution_count": 9,
   "id": "02ca7045",
   "metadata": {},
   "outputs": [
    {
     "name": "stdout",
     "output_type": "stream",
     "text": [
      "+-----------+--------------------+--------------------+--------------------+------------------+--------+-------+-----+\n",
      "|question_id|                tags|       creation_date|               title|accepted_answer_id|comments|user_id|views|\n",
      "+-----------+--------------------+--------------------+--------------------+------------------+--------+-------+-----+\n",
      "|     382738|[optics, waves, f...|2018-01-27 23:22:...|What is the pseud...|            382772|       0|  76347|   32|\n",
      "|     370717|[field-theory, de...|2017-11-25 01:09:...|What is the defin...|              null|       1|  75085|   82|\n",
      "|     339944|[general-relativi...|2017-06-17 13:32:...|Could gravitation...|              null|      13| 116137|  333|\n",
      "|     233852|[homework-and-exe...|2016-02-04 13:19:...|When does travell...|              null|       9|  95831|  185|\n",
      "|     294165|[quantum-mechanic...|2016-11-22 03:39:...|Time-dependent qu...|              null|       1| 118807|   56|\n",
      "|     173819|[homework-and-exe...|2015-04-02 08:56:...|Finding Magnetic ...|              null|       5|  76767| 3709|\n",
      "|     265198|    [thermodynamics]|2016-06-28 07:56:...|Physical meaning ...|              null|       2|  65035| 1211|\n",
      "|     175015|[quantum-mechanic...|2015-04-08 18:24:...|Understanding a m...|              null|       1|  76155|  326|\n",
      "|     413973|[quantum-mechanic...|2018-06-27 06:29:...|Incorporate spino...|              null|       3| 167682|   81|\n",
      "|     303670|[quantum-field-th...|2017-01-07 22:05:...|A Wilson line pro...|              null|       0| 101968|  184|\n",
      "|     317368|[general-relativi...|2017-03-08 11:53:...|Shouldn't Torsion...|              null|       0|  20427|  305|\n",
      "|     369982|[quantum-mechanic...|2017-11-20 19:11:...|Incompressible in...|              null|       4| 124864|   83|\n",
      "|     239745|[quantum-mechanic...|2016-02-25 00:51:...|Is this correct? ...|            239773|       2|  89821|   78|\n",
      "|     412294|[quantum-mechanic...|2018-06-17 17:46:...|Is electron/photo...|              null|       0|    605|   61|\n",
      "|     437521|[thermodynamics, ...|2018-10-28 23:49:...|Distance Dependen...|              null|       2| 211152|   19|\n",
      "|     289701|[quantum-field-th...|2016-10-29 20:56:...|Generalize QFT wi...|              null|       4|  31922|   49|\n",
      "|     239505|[definition, stab...|2016-02-24 02:51:...|conditions for so...|              null|       3| 102021|  121|\n",
      "|     300744|[electromagnetism...|2016-12-24 10:14:...|Maxwell equations...|            300749|       0| 112190|  171|\n",
      "|     217315|[nuclear-physics,...|2015-11-08 01:13:...|Is the direction ...|              null|       1|  60150| 1749|\n",
      "|     334778|[cosmology, cosmo...|2017-05-22 06:58:...|Why are fluctatio...|            334791|       3| 109312|  110|\n",
      "+-----------+--------------------+--------------------+--------------------+------------------+--------+-------+-----+\n",
      "only showing top 20 rows\n",
      "\n"
     ]
    }
   ],
   "source": [
    "questionsDF.show()"
   ]
  },
  {
   "cell_type": "code",
   "execution_count": 10,
   "id": "d793c41f",
   "metadata": {},
   "outputs": [
    {
     "name": "stdout",
     "output_type": "stream",
     "text": [
      "+-----------+--------------------+--------------------+-----+---+\n",
      "|question_id|       creation_date|               title|month|cnt|\n",
      "+-----------+--------------------+--------------------+-----+---+\n",
      "|     155989|2014-12-31 17:59:...|Frost bubble form...|    2|  1|\n",
      "|     155989|2014-12-31 17:59:...|Frost bubble form...|   12|  1|\n",
      "|     155990|2014-12-31 18:51:...|The abstract spac...|    1|  1|\n",
      "|     155990|2014-12-31 18:51:...|The abstract spac...|   12|  1|\n",
      "|     155992|2014-12-31 19:44:...|centrifugal force...|   12|  1|\n",
      "|     155993|2014-12-31 19:56:...|How can I estimat...|    1|  1|\n",
      "|     155995|2014-12-31 21:16:...|Why should a solu...|    1|  3|\n",
      "|     155996|2014-12-31 22:06:...|Why do we assume ...|    1|  2|\n",
      "|     155996|2014-12-31 22:06:...|Why do we assume ...|    2|  1|\n",
      "|     155996|2014-12-31 22:06:...|Why do we assume ...|   11|  1|\n",
      "|     155997|2014-12-31 22:26:...|Why do square sha...|    1|  3|\n",
      "|     155999|2014-12-31 23:01:...|Diagonalizability...|    1|  1|\n",
      "|     156008|2015-01-01 00:48:...|Capturing a light...|    1|  2|\n",
      "|     156008|2015-01-01 00:48:...|Capturing a light...|   11|  1|\n",
      "|     156016|2015-01-01 02:31:...|The interference ...|    1|  1|\n",
      "|     156020|2015-01-01 03:19:...|What is going on ...|    1|  1|\n",
      "|     156021|2015-01-01 03:21:...|How to calculate ...|    2|  1|\n",
      "|     156022|2015-01-01 03:55:...|Advice on Major S...|    1|  1|\n",
      "|     156025|2015-01-01 04:32:...|Deriving the Cano...|    1|  1|\n",
      "|     156026|2015-01-01 04:49:...|Does Bell's inequ...|    1|  3|\n",
      "+-----------+--------------------+--------------------+-----+---+\n",
      "only showing top 20 rows\n",
      "\n",
      "-- 1.0197272300720215 seconds to process --\n"
     ]
    }
   ],
   "source": [
    "'''\n",
    "Answers aggregation\n",
    "\n",
    "Here we : get number of answers per question per month\n",
    "'''\n",
    "import time\n",
    "start_time = time.time()\n",
    "# Original version\n",
    "answers_month = answersDF.withColumn('month', month('creation_date')).groupBy('question_id', 'month').agg(count('*').alias('cnt'))\n",
    "\n",
    "resultDF = questionsDF.join(answers_month, 'question_id').select('question_id', 'creation_date', 'title', 'month', 'cnt')\n",
    "\n",
    "resultDF.orderBy('question_id', 'month').show()\n",
    "\n",
    "print(\"-- %s seconds to process --\" % (time.time() - start_time))"
   ]
  },
  {
   "cell_type": "code",
   "execution_count": 11,
   "id": "9472d793",
   "metadata": {},
   "outputs": [
    {
     "name": "stdout",
     "output_type": "stream",
     "text": [
      "== Parsed Logical Plan ==\n",
      "'Project ['question_id, 'creation_date, 'title, 'month, 'cnt]\n",
      "+- Project [question_id#250L, tags#251, creation_date#252, title#253, accepted_answer_id#254L, comments#255L, user_id#256L, views#257L, month#332, cnt#348L]\n",
      "   +- Join Inner, (question_id#250L = question_id#238L)\n",
      "      :- Relation [question_id#250L,tags#251,creation_date#252,title#253,accepted_answer_id#254L,comments#255L,user_id#256L,views#257L] parquet\n",
      "      +- Aggregate [question_id#238L, month#332], [question_id#238L, month#332, count(1) AS cnt#348L]\n",
      "         +- Project [question_id#238L, answer_id#239L, creation_date#240, comments#241L, user_id#242L, score#243L, month(cast(creation_date#240 as date)) AS month#332]\n",
      "            +- Relation [question_id#238L,answer_id#239L,creation_date#240,comments#241L,user_id#242L,score#243L] parquet\n",
      "\n",
      "== Analyzed Logical Plan ==\n",
      "question_id: bigint, creation_date: timestamp, title: string, month: int, cnt: bigint\n",
      "Project [question_id#250L, creation_date#252, title#253, month#332, cnt#348L]\n",
      "+- Project [question_id#250L, tags#251, creation_date#252, title#253, accepted_answer_id#254L, comments#255L, user_id#256L, views#257L, month#332, cnt#348L]\n",
      "   +- Join Inner, (question_id#250L = question_id#238L)\n",
      "      :- Relation [question_id#250L,tags#251,creation_date#252,title#253,accepted_answer_id#254L,comments#255L,user_id#256L,views#257L] parquet\n",
      "      +- Aggregate [question_id#238L, month#332], [question_id#238L, month#332, count(1) AS cnt#348L]\n",
      "         +- Project [question_id#238L, answer_id#239L, creation_date#240, comments#241L, user_id#242L, score#243L, month(cast(creation_date#240 as date)) AS month#332]\n",
      "            +- Relation [question_id#238L,answer_id#239L,creation_date#240,comments#241L,user_id#242L,score#243L] parquet\n",
      "\n",
      "== Optimized Logical Plan ==\n",
      "Project [question_id#250L, creation_date#252, title#253, month#332, cnt#348L]\n",
      "+- Join Inner, (question_id#250L = question_id#238L)\n",
      "   :- Project [question_id#250L, creation_date#252, title#253]\n",
      "   :  +- Filter isnotnull(question_id#250L)\n",
      "   :     +- Relation [question_id#250L,tags#251,creation_date#252,title#253,accepted_answer_id#254L,comments#255L,user_id#256L,views#257L] parquet\n",
      "   +- Aggregate [question_id#238L, month#332], [question_id#238L, month#332, count(1) AS cnt#348L]\n",
      "      +- Project [question_id#238L, month(cast(creation_date#240 as date)) AS month#332]\n",
      "         +- Filter isnotnull(question_id#238L)\n",
      "            +- Relation [question_id#238L,answer_id#239L,creation_date#240,comments#241L,user_id#242L,score#243L] parquet\n",
      "\n",
      "== Physical Plan ==\n",
      "AdaptiveSparkPlan isFinalPlan=false\n",
      "+- Project [question_id#250L, creation_date#252, title#253, month#332, cnt#348L]\n",
      "   +- BroadcastHashJoin [question_id#250L], [question_id#238L], Inner, BuildRight, false\n",
      "      :- Filter isnotnull(question_id#250L)\n",
      "      :  +- FileScan parquet [question_id#250L,creation_date#252,title#253] Batched: true, DataFilters: [isnotnull(question_id#250L)], Format: Parquet, Location: InMemoryFileIndex(1 paths)[file:/Users/nancypham/springboard/spark-optimization/data/questions], PartitionFilters: [], PushedFilters: [IsNotNull(question_id)], ReadSchema: struct<question_id:bigint,creation_date:timestamp,title:string>\n",
      "      +- BroadcastExchange HashedRelationBroadcastMode(List(input[0, bigint, true]),false), [id=#584]\n",
      "         +- HashAggregate(keys=[question_id#238L, month#332], functions=[count(1)], output=[question_id#238L, month#332, cnt#348L])\n",
      "            +- Exchange hashpartitioning(question_id#238L, month#332, 200), ENSURE_REQUIREMENTS, [id=#581]\n",
      "               +- HashAggregate(keys=[question_id#238L, month#332], functions=[partial_count(1)], output=[question_id#238L, month#332, count#383L])\n",
      "                  +- Project [question_id#238L, month(cast(creation_date#240 as date)) AS month#332]\n",
      "                     +- Filter isnotnull(question_id#238L)\n",
      "                        +- FileScan parquet [question_id#238L,creation_date#240] Batched: true, DataFilters: [isnotnull(question_id#238L)], Format: Parquet, Location: InMemoryFileIndex(1 paths)[file:/Users/nancypham/springboard/spark-optimization/data/answers], PartitionFilters: [], PushedFilters: [IsNotNull(question_id)], ReadSchema: struct<question_id:bigint,creation_date:timestamp>\n",
      "\n"
     ]
    }
   ],
   "source": [
    "resultDF.explain(True)"
   ]
  },
  {
   "cell_type": "code",
   "execution_count": 12,
   "id": "2247bb2e",
   "metadata": {},
   "outputs": [
    {
     "name": "stdout",
     "output_type": "stream",
     "text": [
      "+-----------+--------------------+--------------------+-----+---+\n",
      "|question_id|       creation_date|               title|month|cnt|\n",
      "+-----------+--------------------+--------------------+-----+---+\n",
      "|     155989|2014-12-31 17:59:...|Frost bubble form...|    2|  1|\n",
      "|     155989|2014-12-31 17:59:...|Frost bubble form...|   12|  1|\n",
      "|     155990|2014-12-31 18:51:...|The abstract spac...|    1|  1|\n",
      "|     155990|2014-12-31 18:51:...|The abstract spac...|   12|  1|\n",
      "|     155992|2014-12-31 19:44:...|centrifugal force...|   12|  1|\n",
      "|     155993|2014-12-31 19:56:...|How can I estimat...|    1|  1|\n",
      "|     155995|2014-12-31 21:16:...|Why should a solu...|    1|  3|\n",
      "|     155996|2014-12-31 22:06:...|Why do we assume ...|    1|  2|\n",
      "|     155996|2014-12-31 22:06:...|Why do we assume ...|    2|  1|\n",
      "|     155996|2014-12-31 22:06:...|Why do we assume ...|   11|  1|\n",
      "|     155997|2014-12-31 22:26:...|Why do square sha...|    1|  3|\n",
      "|     155999|2014-12-31 23:01:...|Diagonalizability...|    1|  1|\n",
      "|     156008|2015-01-01 00:48:...|Capturing a light...|    1|  2|\n",
      "|     156008|2015-01-01 00:48:...|Capturing a light...|   11|  1|\n",
      "|     156016|2015-01-01 02:31:...|The interference ...|    1|  1|\n",
      "|     156020|2015-01-01 03:19:...|What is going on ...|    1|  1|\n",
      "|     156021|2015-01-01 03:21:...|How to calculate ...|    2|  1|\n",
      "|     156022|2015-01-01 03:55:...|Advice on Major S...|    1|  1|\n",
      "|     156025|2015-01-01 04:32:...|Deriving the Cano...|    1|  1|\n",
      "|     156026|2015-01-01 04:49:...|Does Bell's inequ...|    1|  3|\n",
      "+-----------+--------------------+--------------------+-----+---+\n",
      "only showing top 20 rows\n",
      "\n",
      "-- 0.7601652145385742 seconds to process --\n"
     ]
    }
   ],
   "source": [
    "# Optimized version 1 -- switch join order\n",
    "start_time = time.time()\n",
    "\n",
    "answers_month = answersDF.withColumn('month', month('creation_date')).groupBy('question_id', 'month').agg(count('*').alias('cnt'))\n",
    "\n",
    "resultDF = answers_month.join(questionsDF, 'question_id').select('question_id', 'creation_date', 'title', 'month', 'cnt')\n",
    "\n",
    "resultDF.orderBy('question_id', 'month').show()\n",
    "\n",
    "print(\"-- %s seconds to process --\" % (time.time() - start_time))"
   ]
  }
 ],
 "metadata": {
  "kernelspec": {
   "display_name": "Python 3",
   "language": "python",
   "name": "python3"
  },
  "language_info": {
   "codemirror_mode": {
    "name": "ipython",
    "version": 3
   },
   "file_extension": ".py",
   "mimetype": "text/x-python",
   "name": "python",
   "nbconvert_exporter": "python",
   "pygments_lexer": "ipython3",
   "version": "3.8.8"
  }
 },
 "nbformat": 4,
 "nbformat_minor": 5
}
