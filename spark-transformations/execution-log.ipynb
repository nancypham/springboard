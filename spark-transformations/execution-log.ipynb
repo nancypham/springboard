{
 "cells": [
  {
   "cell_type": "code",
   "execution_count": 42,
   "id": "75ad642b",
   "metadata": {},
   "outputs": [],
   "source": [
    "import logging\n",
    "from pyspark import SparkContext\n",
    "\n",
    "logging.basicConfig(level=logging.INFO)\n",
    "\n",
    "sc.stop()\n",
    "sc = SparkContext(\"local\", \"My Application\")\n",
    "raw_rdd = sc.textFile(\"data.csv\")"
   ]
  },
  {
   "cell_type": "code",
   "execution_count": 76,
   "id": "019c91aa",
   "metadata": {},
   "outputs": [],
   "source": [
    "def extract_vin_key_value(line: str):\n",
    "    \"\"\"\n",
    "    Input: A record line\n",
    "        Type: list\n",
    "    Output: key: vin_number, value: make, year, incident type\n",
    "        Type: tuple\n",
    "    \"\"\"\n",
    "    record = line.strip().split(',')\n",
    "    key = record[2].strip()\n",
    "    value = record[3].strip(), record[5].strip(), record[1].strip()\n",
    "    return [key, value]\n",
    "\n",
    "def populate_make(record: list):\n",
    "    \"\"\"\n",
    "    Input: List of values for each record\n",
    "    Output: Accident records with make and year \n",
    "    \"\"\"\n",
    "    accident_records = []\n",
    "\n",
    "    for item in record:\n",
    "        if item[0] != '':\n",
    "            make, year = item[0], item[1]\n",
    "        if item[2] == 'A':\n",
    "            accident_records.append((make, year, item[2]))    \n",
    "    \n",
    "    return accident_records\n",
    "\n",
    "def extract_make_key_value(record: list):\n",
    "    \"\"\"\n",
    "    Input: List of values for each record\n",
    "    Output: key: make-year, value: 1\n",
    "    \"\"\"\n",
    "    key = str(record[0].strip() + record[1].strip())\n",
    "    value = 1\n",
    "\n",
    "    return [key, value]\n",
    "\n",
    "def create_accident_report(file):\n",
    "    vin_kv = file.map(lambda x: extract_vin_key_value(x))\n",
    "    \n",
    "    enhance_make = vin_kv.groupByKey().flatMap(lambda kv: populate_make(kv[1]))\n",
    "    \n",
    "    make_kv = enhance_make.map(lambda x: extract_make_key_value(x))\n",
    "    \n",
    "    count_kv = make_kv.reduceByKey(add)\n",
    "\n",
    "    return count_kv\n",
    "\n",
    "report = create_accident_report(raw_rdd)\n",
    "report.saveAsTextFile(\"accident_report\")"
   ]
  },
  {
   "cell_type": "code",
   "execution_count": 54,
   "id": "edb944fa",
   "metadata": {
    "scrolled": true
   },
   "outputs": [
    {
     "name": "stdout",
     "output_type": "stream",
     "text": [
      "+-----------------+-------------------+\n",
      "|              vin|              value|\n",
      "+-----------------+-------------------+\n",
      "|EXOA00341AB123456|{Mercedes, 2016, I}|\n",
      "|EXOA00341AB123456|            {, , A}|\n",
      "|EXOA00341AB123456|            {, , R}|\n",
      "|INU45KIOOPA343980|            {, , A}|\n",
      "|INU45KIOOPA343980|{Mercedes, 2015, I}|\n",
      "|UXIA769ABCC447906|  {Toyota, 2017, I}|\n",
      "|UXIA769ABCC447906|            {, , R}|\n",
      "|VOME254OOXW344325|            {, , R}|\n",
      "|VOME254OOXW344325|            {, , A}|\n",
      "|VOME254OOXW344325|            {, , R}|\n",
      "|VOME254OOXW344325|            {, , R}|\n",
      "|VOME254OOXW344325|{Mercedes, 2015, I}|\n",
      "|VXIO456XLBB630221|  {Nissan, 2003, I}|\n",
      "|VXIO456XLBB630221|            {, , R}|\n",
      "|VXIO456XLBB630221|            {, , A}|\n",
      "|VXIO456XLBB630221|            {, , R}|\n",
      "+-----------------+-------------------+\n",
      "\n"
     ]
    }
   ],
   "source": [
    "from pyspark.sql import SQLContext\n",
    "\n",
    "sqlContext = SQLContext(sc)\n",
    "df = sqlContext.createDataFrame(vin_kv).toDF(\"vin\", \"value\")\n",
    "df.sort(df.vin.asc()).show()"
   ]
  },
  {
   "cell_type": "code",
   "execution_count": 63,
   "id": "7d320b4c",
   "metadata": {
    "scrolled": true
   },
   "outputs": [
    {
     "name": "stdout",
     "output_type": "stream",
     "text": [
      "[('Nissan', '2003', 'A'), ('Mercedes', '2015', 'A'), ('Mercedes', '2015', 'A'), ('Mercedes', '2016', 'A')]\n"
     ]
    }
   ],
   "source": [
    "print(enhance_make.collect())"
   ]
  },
  {
   "cell_type": "code",
   "execution_count": 66,
   "id": "a61a23ba",
   "metadata": {},
   "outputs": [
    {
     "name": "stdout",
     "output_type": "stream",
     "text": [
      "+------------+-----+\n",
      "|         key|value|\n",
      "+------------+-----+\n",
      "|  Nissan2003|    1|\n",
      "|Mercedes2015|    1|\n",
      "|Mercedes2015|    1|\n",
      "|Mercedes2016|    1|\n",
      "+------------+-----+\n",
      "\n"
     ]
    }
   ],
   "source": [
    "df = sqlContext.createDataFrame(make_kv).toDF(\"key\", \"value\")\n",
    "df.show()"
   ]
  },
  {
   "cell_type": "code",
   "execution_count": 68,
   "id": "8e09f68f",
   "metadata": {},
   "outputs": [
    {
     "name": "stdout",
     "output_type": "stream",
     "text": [
      "+------------+-----+\n",
      "|         key|count|\n",
      "+------------+-----+\n",
      "|  Nissan2003|    1|\n",
      "|Mercedes2015|    2|\n",
      "|Mercedes2016|    1|\n",
      "+------------+-----+\n",
      "\n"
     ]
    }
   ],
   "source": [
    "df = sqlContext.createDataFrame(count_kv).toDF(\"key\", \"count\")\n",
    "df.show()"
   ]
  }
 ],
 "metadata": {
  "kernelspec": {
   "display_name": "Python 3",
   "language": "python",
   "name": "python3"
  },
  "language_info": {
   "codemirror_mode": {
    "name": "ipython",
    "version": 3
   },
   "file_extension": ".py",
   "mimetype": "text/x-python",
   "name": "python",
   "nbconvert_exporter": "python",
   "pygments_lexer": "ipython3",
   "version": "3.8.8"
  }
 },
 "nbformat": 4,
 "nbformat_minor": 5
}
